{
 "cells": [
  {
   "cell_type": "code",
   "execution_count": 1,
   "metadata": {},
   "outputs": [],
   "source": [
    "import unittest\n",
    "import mdtraj as md\n",
    "from mastermsm.trajectory import traj"
   ]
  },
  {
   "cell_type": "code",
   "execution_count": 2,
   "metadata": {},
   "outputs": [],
   "source": [
    "class TestMDtraj(unittest.TestCase):\n",
    "    def setUp(self):\n",
    "        self.traj = md.load('trajectory/tests/data/protein_only.xtc', \\\n",
    "                top='trajectory/tests/data/alaTB.gro')\n",
    "\n",
    "    def test_traj(self):\n",
    "        self.assertEqual(self.traj.n_atoms, 19, 'incorrect number of atoms')\n",
    "        self.assertEqual(self.traj.timestep, 1.0, 'incorrect timestep')\n"
   ]
  },
  {
   "cell_type": "code",
   "execution_count": 17,
   "metadata": {},
   "outputs": [],
   "source": [
    "\n",
    "class UseMDtraj(unittest.TestCase):\n",
    "\n",
    "    def setUp(self):\n",
    "        print('self', self)\n",
    "        top='trajectory/tests/data/alaTB.gro'\n",
    "        traj.TimeSeries()\n",
    "        trj=['trajectory/tests/data/protein_only.xtc']\n",
    "\n",
    "        tr = traj.TimeSeries(top=top, \\\n",
    "                                traj=trj)\n",
    "        self.tr = tr\n",
    "        #pass\n",
    "\n",
    "    def test_atributes(self):\n",
    "        print('mdt',self.tr.mdt)\n",
    "#    def test_discretize(self):\n",
    "#        assert self.tr.n_traj == 1\n"
   ]
  },
  {
   "cell_type": "code",
   "execution_count": 18,
   "metadata": {},
   "outputs": [
    {
     "name": "stderr",
     "output_type": "stream",
     "text": [
      "EE"
     ]
    },
    {
     "name": "stdout",
     "output_type": "stream",
     "text": [
      "self test_atributes (__main__.UseMDtraj)\n"
     ]
    },
    {
     "name": "stderr",
     "output_type": "stream",
     "text": [
      "\n",
      "======================================================================\n",
      "ERROR: test_traj (__main__.TestMDtraj)\n",
      "----------------------------------------------------------------------\n",
      "Traceback (most recent call last):\n",
      "  File \"<ipython-input-2-fe73fbea0693>\", line 4, in setUp\n",
      "    top='trajectory/tests/data/alaTB.gro')\n",
      "  File \"/Users/anneaguirregonzalez/anaconda3/lib/python3.7/site-packages/mdtraj/core/trajectory.py\", line 374, in load\n",
      "    kwargs[\"top\"] = _parse_topology(kwargs[\"top\"], **topkwargs)\n",
      "  File \"/Users/anneaguirregonzalez/anaconda3/lib/python3.7/site-packages/mdtraj/core/trajectory.py\", line 178, in _parse_topology\n",
      "    topology = load_gro(top, **kwargs).topology\n",
      "  File \"/Users/anneaguirregonzalez/anaconda3/lib/python3.7/site-packages/mdtraj/formats/gro.py\", line 90, in load_gro\n",
      "    with GroTrajectoryFile(filename, 'r') as f:\n",
      "  File \"/Users/anneaguirregonzalez/anaconda3/lib/python3.7/site-packages/mdtraj/formats/gro.py\", line 136, in __init__\n",
      "    self._file = open(filename, 'r')\n",
      "FileNotFoundError: [Errno 2] No such file or directory: 'trajectory/tests/data/alaTB.gro'\n",
      "\n",
      "======================================================================\n",
      "ERROR: test_atributes (__main__.UseMDtraj)\n",
      "----------------------------------------------------------------------\n",
      "Traceback (most recent call last):\n",
      "  File \"<ipython-input-17-31ae2ec8960a>\", line 7, in setUp\n",
      "    traj.TimeSeries()\n",
      "  File \"/Users/anneaguirregonzalez/.local/lib/python3.7/site-packages/MasterMSM-0.1.dev0-py3.7.egg/mastermsm/trajectory/traj.py\", line 85, in __init__\n",
      "    mdt = _load_mdtraj(top=top, traj=traj)\n",
      "TypeError: _load_mdtraj() missing 1 required positional argument: 'self'\n",
      "\n",
      "----------------------------------------------------------------------\n",
      "Ran 2 tests in 0.004s\n",
      "\n",
      "FAILED (errors=2)\n"
     ]
    }
   ],
   "source": [
    "if __name__ == '__main__':\n",
    "    unittest.main(argv=['first-arg-is-ignored'], exit=False)"
   ]
  },
  {
   "cell_type": "code",
   "execution_count": null,
   "metadata": {},
   "outputs": [],
   "source": []
  }
 ],
 "metadata": {
  "kernelspec": {
   "display_name": "Python 3",
   "language": "python",
   "name": "python3"
  },
  "language_info": {
   "codemirror_mode": {
    "name": "ipython",
    "version": 3
   },
   "file_extension": ".py",
   "mimetype": "text/x-python",
   "name": "python",
   "nbconvert_exporter": "python",
   "pygments_lexer": "ipython3",
   "version": "3.7.3"
  }
 },
 "nbformat": 4,
 "nbformat_minor": 1
}
