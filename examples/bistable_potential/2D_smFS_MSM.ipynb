{
 "cells": [
  {
   "cell_type": "markdown",
   "metadata": {},
   "source": [
    "\n",
    "## MSM of Brownian dynamics simulations of diffusion on a 2D surface\n",
    "Here we analyze simulations on another simple mode system, but one that goes beyond one dimension. Specifically, we use the model by [Berezhkovskii et al, *JCP* (2014)](http://dx.doi.org/10.1063/1.4902243). We run brownian dynamics simulations on this surface and build a simple Markov state model from it. The data can be downloaded from [OSF](https://osf.io/a2vc7/).\n",
    "\n",
    "As always we start by importing some relevant libraries."
   ]
  },
  {
   "cell_type": "code",
   "execution_count": null,
   "metadata": {},
   "outputs": [],
   "source": [
    "%matplotlib inline\n",
    "%load_ext autoreload\n",
    "%autoreload 2\n",
    "import h5py\n",
    "import numpy as np"
   ]
  },
  {
   "cell_type": "code",
   "execution_count": null,
   "metadata": {},
   "outputs": [],
   "source": [
    "import matplotlib.pyplot as plt\n",
    "import matplotlib.cm as cm\n",
    "import seaborn as sns\n",
    "sns.set(style=\"ticks\", color_codes=True, font_scale=1.25)\n",
    "sns.set_style({\"xtick.direction\": \"in\", \"ytick.direction\": \"in\"})"
   ]
  },
  {
   "cell_type": "markdown",
   "metadata": {},
   "source": [
    "#### Discretization"
   ]
  },
  {
   "cell_type": "markdown",
   "metadata": {},
   "source": [
    "Here we upload the data obtained from Brownian Dynamics simulations of isotropic diffusion on a 2D potential."
   ]
  },
  {
   "cell_type": "code",
   "execution_count": null,
   "metadata": {},
   "outputs": [],
   "source": [
    "h5file = \"../datafiles/brownian_dynamics/cossio_kl1.3_Dx1_Dq1.h5\"\n",
    "f = h5py.File(h5file, 'r')\n",
    "data = np.array(f['data'])\n",
    "f.close()"
   ]
  },
  {
   "cell_type": "code",
   "execution_count": null,
   "metadata": {},
   "outputs": [],
   "source": [
    "fig, ax = plt.subplots(2,1,figsize=(10,3), sharex=True,sharey=False)\n",
    "ax[0].plot(data[:,0],data[:,1],'.', markersize=1)\n",
    "ax[1].plot(data[:,0],data[:,2],'g.', markersize=1)\n",
    "ax[0].set_ylim(-10,10)\n",
    "ax[1].set_xlim(0,25000)\n",
    "ax[0].set_ylabel('x')\n",
    "ax[1].set_ylabel('y')\n",
    "ax[1].set_xlabel('Time')\n",
    "plt.tight_layout(h_pad=0)"
   ]
  },
  {
   "cell_type": "markdown",
   "metadata": {},
   "source": [
    "Clearly the system interconverts between two states. Both coordinates, x and y, are highly correlated, although the free energy landscape, which we can estimate from a Boltzmann inversion, varies a bit depending on the projection we use."
   ]
  },
  {
   "cell_type": "code",
   "execution_count": null,
   "metadata": {},
   "outputs": [],
   "source": [
    "fig, ax = plt.subplots(figsize=(6,4))\n",
    "hist, bin_edges = np.histogram(data[:,1], bins=np.linspace(-9,9,25), \\\n",
    "                               density=True)\n",
    "bin_centers = [0.5*(bin_edges[i]+bin_edges[i+1]) \\\n",
    "               for i in range(len(bin_edges)-1)]\n",
    "ax.plot(bin_centers, -np.log(hist), lw=3, label=\"x\")\n",
    "hist, bin_edges = np.histogram(data[:,2], bins=np.linspace(-9,9,25), \\\n",
    "                               density=True)\n",
    "bin_centers = [0.5*(bin_edges[i]+bin_edges[i+1]) \\\n",
    "               for i in range(len(bin_edges)-1)]\n",
    "ax.plot(bin_centers, -np.log(hist), lw=3, label=\"y\")\n",
    "ax.set_xlim(-7,7)\n",
    "ax.set_ylim(1,9)\n",
    "ax.set_xlabel('coordinate')\n",
    "ax.set_ylabel('PMF ($k_BT$)')\n",
    "ax.legend()"
   ]
  },
  {
   "cell_type": "markdown",
   "metadata": {},
   "source": [
    "We can also represent the energy landscape in two dimensions:"
   ]
  },
  {
   "cell_type": "code",
   "execution_count": null,
   "metadata": {},
   "outputs": [],
   "source": [
    "H, x_edges, y_edges = np.histogram2d(data[:,1],data[:,2], \\\n",
    "            bins=[np.linspace(-9,9,25), np.linspace(-9,9,25)])\n",
    "\n",
    "fig, ax = plt.subplots(figsize=(5,4.5))\n",
    "pmf = -np.log(H.transpose())\n",
    "pmf -= np.min(pmf)\n",
    "cs = ax.contourf(pmf, extent=[x_edges.min(), x_edges.max(), \\\n",
    "                     y_edges.min(), y_edges.max()], \\\n",
    "                   levels=np.arange(0, 6.5,0.5), alpha=0.75)\n",
    "cbar = plt.colorbar(cs)\n",
    "ax.set_xlim(-7,7)\n",
    "ax.set_ylim(-7,7)\n",
    "ax.set_yticks(range(-5,6,5))\n",
    "ax.set_xlabel('$x$', fontsize=18)\n",
    "ax.set_ylabel('$y$', fontsize=18)\n",
    "plt.tight_layout()"
   ]
  },
  {
   "cell_type": "markdown",
   "metadata": {},
   "source": [
    "To construct the MSM, we assigning frames to microstates. We first need to import the function that makes the grid."
   ]
  },
  {
   "cell_type": "code",
   "execution_count": null,
   "metadata": {},
   "outputs": [],
   "source": [
    "from scipy.stats import binned_statistic_2d"
   ]
  },
  {
   "cell_type": "code",
   "execution_count": null,
   "metadata": {},
   "outputs": [],
   "source": [
    "statistic, x_edge, y_edge, binnumber = \\\n",
    "    binned_statistic_2d(data[:,1],data[:,2],None,'count', \\\n",
    "                        bins=[np.linspace(-9,9,25), np.linspace(-9,9,25)])"
   ]
  },
  {
   "cell_type": "code",
   "execution_count": null,
   "metadata": {},
   "outputs": [],
   "source": [
    "fig, ax = plt.subplots(figsize=(6,5))\n",
    "\n",
    "grid = ax.imshow(-np.log(statistic.transpose()),origin=\"lower\",cmap=plt.cm.rainbow)\n",
    "\n",
    "cbar = plt.colorbar(grid)\n",
    "ax.set_yticks(range(0,20,5))\n",
    "ax.set_xticks(range(0,20,5))\n",
    "ax.set_xlabel('$x_{bin}$', fontsize=20)\n",
    "ax.set_ylabel('$y_{bin}$', fontsize=20)\n",
    "plt.tight_layout()"
   ]
  },
  {
   "cell_type": "markdown",
   "metadata": {},
   "source": [
    "In this way, the continuous coordinates x and y are mapped onto a discrete microstate space."
   ]
  },
  {
   "cell_type": "code",
   "execution_count": null,
   "metadata": {},
   "outputs": [],
   "source": [
    "fig,ax=plt.subplots(3,1,figsize=(10,6),sharex=True)\n",
    "plt.subplots_adjust(wspace=0, hspace=0)\n",
    "ax[0].plot(range(0,len(data[:,1])),data[:,1])\n",
    "ax[1].plot(range(0,len(data[:,2])),data[:,2],color=\"g\")\n",
    "ax[2].plot(binnumber)\n",
    "ax[0].set_ylabel('x')\n",
    "ax[1].set_ylabel('y')\n",
    "ax[2].set_ylabel(\"s\")\n",
    "ax[2].set_xlabel(\"time (ps)\")\n",
    "ax[2].set_xlim(0, 1500)"
   ]
  },
  {
   "cell_type": "code",
   "execution_count": null,
   "metadata": {},
   "outputs": [],
   "source": [
    "from mastermsm.trajectory import traj"
   ]
  },
  {
   "cell_type": "markdown",
   "metadata": {},
   "source": [
    "We then pass the discrete trajectory to the ``traj`` module to generate an instance of the ``TimeSeries`` class. Using some of its methods, we are able to generate and sort the names of the microstates in the trajectory, which will be useful later."
   ]
  },
  {
   "cell_type": "code",
   "execution_count": null,
   "metadata": {},
   "outputs": [],
   "source": [
    "distraj = traj.TimeSeries(distraj=list(binnumber), dt=1)\n",
    "distraj.find_keys()\n",
    "distraj.keys.sort()"
   ]
  },
  {
   "cell_type": "markdown",
   "metadata": {},
   "source": [
    "### Master Equation Model \n",
    "After generating the discrete trajectory, we can build the master equation model, for which we use the ``msm`` module."
   ]
  },
  {
   "cell_type": "code",
   "execution_count": null,
   "metadata": {},
   "outputs": [],
   "source": [
    "from mastermsm.msm import msm"
   ]
  },
  {
   "cell_type": "markdown",
   "metadata": {},
   "source": [
    "First of all, we will create an instance of the SuperMSM class, which will be useful to produce and validate dynamical models. We pass two arguments: the \"discrete trajectory\" that we have generated above and a value for the boolean sym. This only tells the program that it can symmetrize the data, as we are assuming our trajectory is long enough as to consider it equilibrium sampling."
   ]
  },
  {
   "cell_type": "code",
   "execution_count": null,
   "metadata": {},
   "outputs": [],
   "source": [
    "msm_2D = msm.SuperMSM([distraj], sym=True)"
   ]
  },
  {
   "cell_type": "markdown",
   "metadata": {},
   "source": [
    "We then check the dependence of the slowest relaxation times of the system, $\\tau$ with respect to the choice of lag time $\\Delta t$. These can be accessed as the `tauT` corresponding to the `MSM` instance. We find that they are very well converged even from the shortest value of $\\Delta t$."
   ]
  },
  {
   "cell_type": "code",
   "execution_count": null,
   "metadata": {},
   "outputs": [],
   "source": [
    "for i in [1, 2, 5, 10, 20, 50, 100]:\n",
    "    msm_2D.do_msm(i)\n",
    "    msm_2D.msms[i].do_trans(evecs=True)\n",
    "    msm_2D.msms[i].boots()"
   ]
  },
  {
   "cell_type": "code",
   "execution_count": null,
   "metadata": {},
   "outputs": [],
   "source": [
    "tau_vs_lagt = np.array([[x,msm_2D.msms[x].tauT[0], \\\n",
    "                         msm_2D.msms[x].tau_std[0]] \\\n",
    "               for x in sorted(msm_2D.msms.keys())])"
   ]
  },
  {
   "cell_type": "code",
   "execution_count": null,
   "metadata": {},
   "outputs": [],
   "source": [
    "fig, ax = plt.subplots()\n",
    "ax.errorbar(tau_vs_lagt[:,0],tau_vs_lagt[:,1],fmt='o-', \\\n",
    "            yerr=tau_vs_lagt[:,2], markersize=10)\n",
    "ax.fill_between(tau_vs_lagt[:,0],tau_vs_lagt[:,1]+tau_vs_lagt[:,2], \\\n",
    "                tau_vs_lagt[:,1]-tau_vs_lagt[:,2], alpha=0.1)\n",
    "ax.set_xlabel(r'$\\Delta$t', fontsize=16)\n",
    "ax.set_ylabel(r'$\\tau$', fontsize=16)\n",
    "ax.set_xlim(0.8,120)\n",
    "ax.set_ylim(50,1000)\n",
    "ax.set_yscale('log')\n",
    "ax.set_xscale('log')\n",
    "plt.tight_layout()"
   ]
  },
  {
   "cell_type": "markdown",
   "metadata": {},
   "source": [
    "Clearly, there is no dependence of the relaxation times $\\tau$ on the lag time $\\Delta$t.\n"
   ]
  },
  {
   "cell_type": "markdown",
   "metadata": {},
   "source": [
    "#### Estimation"
   ]
  },
  {
   "cell_type": "code",
   "execution_count": null,
   "metadata": {},
   "outputs": [],
   "source": [
    "lt=2\n",
    "plt.figure()\n",
    "plt.imshow(msm_2D.msms[lt].trans, interpolation='none', \\\n",
    "    origin=\"lower\")\n",
    "plt.ylabel('$\\it{i}$')\n",
    "plt.xlabel('$\\it{j}$')\n",
    "plt.colorbar()\n",
    "plt.figure()\n",
    "plt.imshow(np.log(msm_2D.msms[lt].trans), interpolation='none', \\\n",
    "    origin=\"lower\")\n",
    "plt.ylabel('$\\it{i}$')\n",
    "plt.xlabel('$\\it{j}$')\n",
    "plt.colorbar()"
   ]
  },
  {
   "cell_type": "code",
   "execution_count": null,
   "metadata": {},
   "outputs": [],
   "source": [
    "fig, ax = plt.subplots()\n",
    "ax.errorbar(range(1,12),msm_2D.msms[lt].tauT[0:11], fmt='o-', \\\n",
    "            yerr= msm_2D.msms[lt].tau_std[0:11], ms=10)\n",
    "ax.set_xlabel('Eigenvalue')\n",
    "ax.set_ylabel(r'$\\tau_i$ [ns]') "
   ]
  },
  {
   "cell_type": "markdown",
   "metadata": {},
   "source": [
    "The first mode captured by $\\lambda_1$ is significantly slower than the others. That mode, which is described by the right eigenvector $\\psi^R_1$ as the transition of the protein between the folded and unfolded states."
   ]
  },
  {
   "cell_type": "code",
   "execution_count": null,
   "metadata": {},
   "outputs": [],
   "source": [
    "fig, ax = plt.subplots(figsize=(10,4))\n",
    "ax.plot(msm_2D.msms[2].rvecsT[:,1])\n",
    "ax.fill_between(range(len(msm_2D.msms[lt].rvecsT[:,1])), 0, \\\n",
    "                msm_2D.msms[lt].rvecsT[:,1], \\\n",
    "                where=msm_2D.msms[lt].rvecsT[:,1]>0,\\\n",
    "                facecolor='c', interpolate=True,alpha=.4)\n",
    "ax.fill_between(range(len(msm_2D.msms[lt].rvecsT[:,1])), 0, \\\n",
    "                msm_2D.msms[lt].rvecsT[:,1], \\\n",
    "                where=msm_2D.msms[lt].rvecsT[:,1]<0,\\\n",
    "                facecolor='g', interpolate=True,alpha=.4)\n",
    "ax.set_ylabel(\"$\\Psi^R_1$\")\n",
    "plt.show()"
   ]
  },
  {
   "cell_type": "markdown",
   "metadata": {},
   "source": [
    "The projection of $\\psi^R_1$ on the 2D grid shows the transitions between the two conformational states (red and blue)."
   ]
  },
  {
   "cell_type": "code",
   "execution_count": null,
   "metadata": {},
   "outputs": [],
   "source": [
    "fig,ax = plt.subplots(1,2,figsize=(10,5),sharey=True,sharex=True)\n",
    "rv_mat = np.zeros((25,25), float)\n",
    "for i in [x for x in zip(msm_2D.msms[lt].keep_keys, \\\n",
    "                         msm_2D.msms[lt].rvecsT[:,1])]:\n",
    "    unr_ind=np.unravel_index(i[0],(26,26))    \n",
    "    rv_mat[unr_ind[0]-1,unr_ind[1]-1] = -i[1]\n",
    "ax[0].imshow(rv_mat.transpose(), interpolation=\"none\", \\\n",
    "             cmap='bwr',origin=\"lower\")\n",
    "ax[1].imshow(-np.log(statistic.transpose()), \\\n",
    "             cmap=plt.cm.rainbow,origin=\"lower\")\n",
    "ax[1].set_yticks(range(0,26,5))\n",
    "ax[1].set_xticks(range(0,26,5))\n",
    "plt.tight_layout()"
   ]
  },
  {
   "cell_type": "code",
   "execution_count": null,
   "metadata": {},
   "outputs": [],
   "source": []
  }
 ],
 "metadata": {
  "kernelspec": {
   "display_name": "Python 3",
   "language": "python",
   "name": "python3"
  },
  "language_info": {
   "codemirror_mode": {
    "name": "ipython",
    "version": 3
   },
   "file_extension": ".py",
   "mimetype": "text/x-python",
   "name": "python",
   "nbconvert_exporter": "python",
   "pygments_lexer": "ipython3",
   "version": "3.8.8"
  }
 },
 "nbformat": 4,
 "nbformat_minor": 2
}
