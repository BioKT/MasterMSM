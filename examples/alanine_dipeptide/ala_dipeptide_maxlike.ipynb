{
 "cells": [
  {
   "cell_type": "markdown",
   "metadata": {},
   "source": [
    "# MSM of the alanine dipeptide\n",
    "In this example we use different methods for estimating the transition and rate matrices for a simple two-state MSM of the alanine dipeptide. "
   ]
  },
  {
   "cell_type": "code",
   "execution_count": 1,
   "metadata": {
    "collapsed": false
   },
   "outputs": [
    {
     "name": "stdout",
     "output_type": "stream",
     "text": [
      "Populating the interactive namespace from numpy and matplotlib\n"
     ]
    }
   ],
   "source": [
    "%load_ext autoreload\n",
    "%autoreload 2\n",
    "%matplotlib inline\n",
    "%pylab inline\n",
    "import math\n",
    "import numpy as np\n",
    "import copy\n",
    "import seaborn as sns\n",
    "sns.set(style=\"ticks\", color_codes=True, font_scale=1.5)\n",
    "sns.set_style({\"xtick.direction\": \"in\", \"ytick.direction\": \"in\"})"
   ]
  },
  {
   "cell_type": "code",
   "execution_count": 2,
   "metadata": {
    "collapsed": true
   },
   "outputs": [],
   "source": [
    "import mdtraj as md\n",
    "from mastermsm.trajectory import traj"
   ]
  },
  {
   "cell_type": "markdown",
   "metadata": {},
   "source": [
    "First we read the trajectory data, here corresponding to the Gromacs `xtc` files using the [`MDtraj`](http://mdtraj.org) library."
   ]
  },
  {
   "cell_type": "code",
   "execution_count": 3,
   "metadata": {
    "collapsed": false
   },
   "outputs": [
    {
     "name": "stdout",
     "output_type": "stream",
     "text": [
      "<mdtraj.Trajectory with 10003 frames, 19 atoms, 3 residues, and unitcells>\n"
     ]
    }
   ],
   "source": [
    "tr = traj.TimeSeries(top='data/alaTB.gro', traj=['data/protein_only.xtc'])\n",
    "print tr.mdt"
   ]
  },
  {
   "cell_type": "markdown",
   "metadata": {},
   "source": [
    "Then we discretize the data using Ramachandran states. Only alpha (`A`), extended (`E`) and left-handed (`L`) configurations are accepted."
   ]
  },
  {
   "cell_type": "code",
   "execution_count": 4,
   "metadata": {
    "collapsed": false
   },
   "outputs": [],
   "source": [
    "tr.discretize(states=['A', 'E', 'L'])\n",
    "tr.find_keys()"
   ]
  },
  {
   "cell_type": "markdown",
   "metadata": {},
   "source": [
    "In order to enforce detailed balance we revert the assigned time series and use both trajectories to build the Markov model."
   ]
  },
  {
   "cell_type": "code",
   "execution_count": 5,
   "metadata": {
    "collapsed": true
   },
   "outputs": [],
   "source": [
    "tr_rev = copy.deepcopy(tr)\n",
    "tr_rev.distraj = [x for x in reversed(tr.distraj)]"
   ]
  },
  {
   "cell_type": "markdown",
   "metadata": {},
   "source": [
    "Using the discretized data we build the MSM invoking the `SuperMSM` class."
   ]
  },
  {
   "cell_type": "code",
   "execution_count": 6,
   "metadata": {
    "collapsed": false,
    "scrolled": true
   },
   "outputs": [
    {
     "name": "stdout",
     "output_type": "stream",
     "text": [
      "\n",
      " Building MSM from \n",
      "[['data/protein_only.xtc'], ['data/protein_only.xtc']]\n",
      "     # states: 3\n"
     ]
    }
   ],
   "source": [
    "from mastermsm.msm import msm\n",
    "msm_alaTB = msm.SuperMSM([tr, tr_rev])"
   ]
  },
  {
   "cell_type": "markdown",
   "metadata": {},
   "source": [
    "We then calculate the transition matrix for a set of lag times."
   ]
  },
  {
   "cell_type": "code",
   "execution_count": 17,
   "metadata": {
    "collapsed": false
   },
   "outputs": [],
   "source": [
    "lagts = [1, 2, 5, 7, 10, 20, 50, 100]\n",
    "for lt in lagts:\n",
    "    msm_alaTB.do_msm(lt)\n",
    "    msm_alaTB.msms[lt].do_trans()\n",
    "    #msm_alaTB.msms[i].boots(plot=False)"
   ]
  },
  {
   "cell_type": "markdown",
   "metadata": {
    "collapsed": false
   },
   "source": [
    "The rate matrix can be calculated using a simple Taylor expansion. The  method produces acceptable solutions for short lag times although the result rapidly diverges from the transition matrix relaxation time at long lag times. The rate matrix elements have the following values:"
   ]
  },
  {
   "cell_type": "code",
   "execution_count": 20,
   "metadata": {
    "collapsed": false
   },
   "outputs": [
    {
     "name": "stdout",
     "output_type": "stream",
     "text": [
      "[[ -1.24335448e-02   1.75931582e-02   6.41025641e-03]\n",
      " [  1.23477963e-02  -1.77153329e-02   6.41025641e-03]\n",
      " [  8.57485851e-05   1.22174710e-04  -1.28205128e-02]]\n"
     ]
    }
   ],
   "source": [
    "msm_alaTB.msms[1].do_rate()\n",
    "print msm_alaTB.msms[1].rate\n",
    "rate_Taylor = msm_alaTB.msms[1].rate\n",
    "tau_Taylor = msm_alaTB.msms[1].tauK\n",
    "peq_Taylor = msm_alaTB.msms[1].peqK"
   ]
  },
  {
   "cell_type": "markdown",
   "metadata": {},
   "source": [
    "Alternatively, we can use the lifetime based method, where we use branching probabilities and average lifetimes. The rate is almost identical to that from the Taylor expansion."
   ]
  },
  {
   "cell_type": "code",
   "execution_count": 29,
   "metadata": {
    "collapsed": false,
    "scrolled": true
   },
   "outputs": [
    {
     "name": "stdout",
     "output_type": "stream",
     "text": [
      "[[ -1.25182200e-02   1.77144903e-02   6.41025641e-03]\n",
      " [  1.24318875e-02  -1.78375076e-02   6.41025641e-03]\n",
      " [  8.63325518e-05   1.23017294e-04  -1.28205128e-02]]\n"
     ]
    }
   ],
   "source": [
    "msm_alaTB.do_lbrate()\n",
    "print msm_alaTB.lbrate"
   ]
  },
  {
   "cell_type": "markdown",
   "metadata": {},
   "source": [
    "Clearly, both methods yield approximately the same result. Finally, we use Buchete and Hummer's maximum likelihood propagator-based method, which is also implemented in MasterMSM."
   ]
  },
  {
   "cell_type": "code",
   "execution_count": 47,
   "metadata": {
    "collapsed": false
   },
   "outputs": [
    {
     "name": "stdout",
     "output_type": "stream",
     "text": [
      "[[ -1.25182200e-02   1.77129715e-02   6.45391166e-03]\n",
      " [  1.24318875e-02  -1.78359888e-02   6.45446508e-03]\n",
      " [  8.63325518e-05   1.23017294e-04  -1.29083767e-02]]\n",
      "<type 'numpy.ndarray'>\n",
      "[[ -1.43366427e-02   2.03012978e-02   7.17395439e-03]\n",
      " [  1.42503102e-02  -2.04179350e-02   6.80333034e-03]\n",
      " [  8.63325518e-05   1.16637180e-04  -1.39772847e-02]]\n"
     ]
    }
   ],
   "source": [
    "msm_alaTB.msms[1].do_rate(method='MLPB', init=msm_alaTB.lbrate)\n",
    "print msm_alaTB.msms[1].rate"
   ]
  },
  {
   "cell_type": "code",
   "execution_count": 48,
   "metadata": {
    "collapsed": false
   },
   "outputs": [
    {
     "data": {
      "image/png": "[encoded data removed]",
      "text/plain": [
       "<matplotlib.figure.Figure at 0x1182d7cd0>"
      ]
     },
     "metadata": {},
     "output_type": "display_data"
    }
   ],
   "source": [
    "fig,ax = plt.subplots()\n",
    "ax.plot(msm_alaTB.msms[1].ml)\n",
    "ax.set_xlabel('MC steps')\n",
    "ax.set_ylabel('-ln($L$)')\n",
    "_ = ax.set_ylim(np.min(msm_alaTB.msms[1].ml),1.001*np.mean(msm_alaTB.msms[1].ml))"
   ]
  },
  {
   "cell_type": "markdown",
   "metadata": {
    "collapsed": true
   },
   "source": [
    "Finally we compare the eigenvalues and equilibrium probabilities from the three methods and those from the transition probability matrix."
   ]
  },
  {
   "cell_type": "code",
   "execution_count": 50,
   "metadata": {
    "collapsed": false
   },
   "outputs": [
    {
     "name": "stdout",
     "output_type": "stream",
     "text": [
      "[ 0.58301255  0.40918862  0.00779883] [ 0.58343908  0.40953972  0.0070212 ] [ 0.58343908  0.40953972  0.0070212 ]\n",
      "[77.406110082100312, 33.277301247030771] [77.401911290202747, 33.050571526882308] [71.050098291954797, 28.85396115817068]\n"
     ]
    },
    {
     "data": {
      "image/png": "[encoded data removed]",
      "text/plain": [
       "<matplotlib.figure.Figure at 0x115858e10>"
      ]
     },
     "metadata": {},
     "output_type": "display_data"
    }
   ],
   "source": [
    "fig, ax = subplots(1,2, figsize=(10,5))\n",
    "ax[0].plot(msm_alaTB.msms[1].peqT, 'x-', markersize=16, markeredgewidth=2,\\\n",
    "           color='g', markeredgecolor='g', markerfacecolor='None', label='T')\n",
    "ax[0].plot(peq_Taylor, 'o-', markersize=16, markeredgewidth=3, \\\n",
    "           color='b', markeredgecolor='b', markerfacecolor='None', label='Taylor')\n",
    "ax[0].plot(msm_alaTB.peqK, 's-', markersize=16,markeredgewidth=2, \\\n",
    "           color='r', markeredgecolor='r', markerfacecolor='None', label='LB')\n",
    "ax[0].plot(msm_alaTB.msms[1].peqK, '^-', markersize=16, markeredgewidth=2,\\\n",
    "           color='c', markeredgecolor='c', markerfacecolor='None', label='MLPB')\n",
    "ax[0].set_xlim(-0.2,2.2)\n",
    "ax[0].set_xlabel('states')\n",
    "ax[0].set_ylim(5e-3,1)\n",
    "ax[0].set_xticks([0,1,2])\n",
    "ax[0].set_xticklabels([\"A\",\"E\", \"L\"])\n",
    "ax[0].set_ylabel('P$_\\mathrm{eq}$', fontsize=20)\n",
    "ax[0].set_yscale('log')\n",
    "print msm_alaTB.msms[1].peqT, msm_alaTB.msms[1].peqK, msm_alaTB.msms[1].peqK\n",
    "\n",
    "print tau_Taylor, msm_alaTB.tauK, msm_alaTB.msms[1].tauK \n",
    "ax[1].plot(msm_alaTB.msms[1].tauT, 'x-', markersize=16, markeredgewidth=2,\\\n",
    "            color='g', markeredgecolor='g', markerfacecolor='None', label='T')\n",
    "ax[1].plot(tau_Taylor, 'o-', markersize=16, markeredgewidth=3, \\\n",
    "           color='b', markeredgecolor='b', markerfacecolor='None', label='Taylor')\n",
    "ax[1].plot(msm_alaTB.tauK, 's-', markersize=16,markeredgewidth=2, \\\n",
    "           color='r', markeredgecolor='r', markerfacecolor='None', label='LB')\n",
    "ax[1].plot(msm_alaTB.msms[1].tauK, '^-', markersize=16, markeredgewidth=2,\\\n",
    "            color='c', markeredgecolor='c', markerfacecolor='None', label='MLPB')\n",
    "ax[1].set_ylabel(r'$\\tau$ [ps]', fontsize=20)\n",
    "ax[1].set_xlabel('eigenvalues', fontsize=20)\n",
    "ax[1].set_xlim(-0.2,1.2) \n",
    "ax[1].set_ylim(0,100) \n",
    "ax[1].set_xticks([0,1])\n",
    "ax[0].legend(loc=3)\n",
    "ax[1].legend(loc=3)\n",
    "plt.tight_layout()"
   ]
  },
  {
   "cell_type": "code",
   "execution_count": null,
   "metadata": {
    "collapsed": true
   },
   "outputs": [],
   "source": []
  }
 ],
 "metadata": {
  "kernelspec": {
   "display_name": "Python 2",
   "language": "python",
   "name": "python2"
  },
  "language_info": {
   "codemirror_mode": {
    "name": "ipython",
    "version": 2
   },
   "file_extension": ".py",
   "mimetype": "text/x-python",
   "name": "python",
   "nbconvert_exporter": "python",
   "pygments_lexer": "ipython2",
   "version": "2.7.11"
  }
 },
 "nbformat": 4,
 "nbformat_minor": 0
}
