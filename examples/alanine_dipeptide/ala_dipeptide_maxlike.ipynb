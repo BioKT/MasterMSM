{
 "cells": [
  {
   "cell_type": "markdown",
   "metadata": {},
   "source": [
    "#MSM of the alanine dipeptide"
   ]
  },
  {
   "cell_type": "code",
   "execution_count": 1,
   "metadata": {
    "collapsed": false
   },
   "outputs": [],
   "source": [
    "%load_ext autoreload\n",
    "%autoreload 2\n",
    "%matplotlib inline\n",
    "import math\n",
    "import numpy as np\n",
    "import matplotlib.pyplot as plt\n",
    "import seaborn as sns\n",
    "sns.set(style=\"ticks\", color_codes=True, font_scale=1.5)\n",
    "sns.set_style({\"xtick.direction\": \"in\", \"ytick.direction\": \"in\"})"
   ]
  },
  {
   "cell_type": "code",
   "execution_count": 2,
   "metadata": {
    "collapsed": true
   },
   "outputs": [],
   "source": [
    "import mdtraj as md\n",
    "from mastermsm.trajectory import traj"
   ]
  },
  {
   "cell_type": "code",
   "execution_count": 3,
   "metadata": {
    "collapsed": false
   },
   "outputs": [
    {
     "name": "stdout",
     "output_type": "stream",
     "text": [
      "<mdtraj.Trajectory with 10003 frames, 19 atoms, 3 residues, and unitcells>\n"
     ]
    }
   ],
   "source": [
    "tr = traj.TimeSeries(top='data/alaTB.gro', traj=['data/protein_only.xtc'])\n",
    "print tr.mdt"
   ]
  },
  {
   "cell_type": "code",
   "execution_count": 4,
   "metadata": {
    "collapsed": false
   },
   "outputs": [],
   "source": [
    "tr.discretize(states=['A', 'E'])\n",
    "tr.find_keys()"
   ]
  },
  {
   "cell_type": "code",
   "execution_count": 5,
   "metadata": {
    "collapsed": false,
    "scrolled": true
   },
   "outputs": [
    {
     "name": "stdout",
     "output_type": "stream",
     "text": [
      "\n",
      " Building MSM from \n",
      "[['data/protein_only.xtc']]\n",
      "     # states: 2\n"
     ]
    }
   ],
   "source": [
    "from mastermsm.msm import msm\n",
    "msm_alaTB = msm.SuperMSM([tr])"
   ]
  },
  {
   "cell_type": "code",
   "execution_count": 6,
   "metadata": {
    "collapsed": false
   },
   "outputs": [],
   "source": [
    "for i in [1, 2, 5, 7, 10, 20, 50, 100]:\n",
    "    msm_alaTB.do_msm(i)\n",
    "    msm_alaTB.msms[i].do_trans()\n",
    "    #msm_alaTB.msms[i].boots(plot=False)"
   ]
  },
  {
   "cell_type": "markdown",
   "metadata": {
    "collapsed": false
   },
   "source": [
    "The method produces acceptable solutions for short lag times although the result rapidly diverges from the transition matrix relaxation time at long lag times. The rate matrix elements have the following values:"
   ]
  },
  {
   "cell_type": "code",
   "execution_count": 7,
   "metadata": {
    "collapsed": false
   },
   "outputs": [
    {
     "data": {
      "text/plain": [
       "array([[-0.01251929,  0.01726619],\n",
       "       [ 0.01251929, -0.01726619]])"
      ]
     },
     "execution_count": 7,
     "metadata": {},
     "output_type": "execute_result"
    }
   ],
   "source": [
    "msm_alaTB.msms[1].do_rate()\n",
    "msm_alaTB.msms[1].rate"
   ]
  },
  {
   "cell_type": "markdown",
   "metadata": {},
   "source": [
    "Alternatively, we can use the lifetime based method, where we use branching probabilities and average lifetimes. The rate is almost identical to that from the Taylor expansion."
   ]
  },
  {
   "cell_type": "code",
   "execution_count": 8,
   "metadata": {
    "collapsed": false
   },
   "outputs": [
    {
     "name": "stdout",
     "output_type": "stream",
     "text": [
      "[[-0.01251929  0.01730769]\n",
      " [ 0.01251929 -0.01730769]]\n"
     ]
    }
   ],
   "source": [
    "msm_alaTB.do_lbrate()\n",
    "print msm_alaTB.lbrate"
   ]
  },
  {
   "cell_type": "markdown",
   "metadata": {},
   "source": [
    "Finally, we use Buchete and Hummer's maximum likelihood propagator-based method, which is also implemented in MasterMSM."
   ]
  },
  {
   "cell_type": "code",
   "execution_count": 52,
   "metadata": {
    "collapsed": false
   },
   "outputs": [
    {
     "name": "stdout",
     "output_type": "stream",
     "text": [
      "[[-0.01251929  0.01726619]\n",
      " [ 0.01251929 -0.01726619]]\n"
     ]
    }
   ],
   "source": [
    "msm_alaTB.msms[1].do_rate(method='MLPB')"
   ]
  },
  {
   "cell_type": "code",
   "execution_count": 53,
   "metadata": {
    "collapsed": false
   },
   "outputs": [
    {
     "name": "stdout",
     "output_type": "stream",
     "text": [
      "[[-0.0127083   0.03637988]\n",
      " [ 0.0127083  -0.03637988]]\n",
      "755.947964992 755.939781227\n"
     ]
    },
    {
     "data": {
      "image/png": "[encoded data removed]",
      "text/plain": [
       "<matplotlib.figure.Figure at 0x10a3bc6d0>"
      ]
     },
     "metadata": {},
     "output_type": "display_data"
    }
   ],
   "source": [
    "print msm_alaTB.msms[1].rate\n",
    "fig,ax = plt.subplots()\n",
    "ax.plot(msm_alaTB.msms[1].ml)\n",
    "ax.set_ylim(np.min(msm_alaTB.msms[1].ml)*0.999,np.median(msm_alaTB.msms[1].ml)*1.01)\n",
    "print msm_alaTB.msms[1].ml[0], msm_alaTB.msms[1].ml[-1]"
   ]
  },
  {
   "cell_type": "code",
   "execution_count": null,
   "metadata": {
    "collapsed": true
   },
   "outputs": [],
   "source": []
  }
 ],
 "metadata": {
  "kernelspec": {
   "display_name": "Python 2",
   "language": "python",
   "name": "python2"
  },
  "language_info": {
   "codemirror_mode": {
    "name": "ipython",
    "version": 2
   },
   "file_extension": ".py",
   "mimetype": "text/x-python",
   "name": "python",
   "nbconvert_exporter": "python",
   "pygments_lexer": "ipython2",
   "version": "2.7.11"
  }
 },
 "nbformat": 4,
 "nbformat_minor": 0
}
