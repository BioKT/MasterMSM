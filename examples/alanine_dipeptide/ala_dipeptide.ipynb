{
 "cells": [
  {
   "cell_type": "markdown",
   "metadata": {},
   "source": [
    "#Master equation model of the alanine dipeptide"
   ]
  },
  {
   "cell_type": "markdown",
   "metadata": {},
   "source": [
    "First we import a number of libraries we will need as we run this example"
   ]
  },
  {
   "cell_type": "code",
   "execution_count": 123,
   "metadata": {
    "collapsed": false
   },
   "outputs": [],
   "source": [
    "%autoreload 2\n",
    "%matplotlib inline\n",
    "import math\n",
    "import numpy as np\n",
    "import matplotlib.pyplot as plt\n",
    "from mastermsm.trajectory import traj\n",
    "import mdtraj as md\n",
    "from mastermsm.trajectory import traj_lib"
   ]
  },
  {
   "cell_type": "markdown",
   "metadata": {},
   "source": [
    "Then we can start loading the data using the data structures from the `trajectory` module. For this we use the external library [`MDtraj`](http://mdtraj.org), which contains all sorts of methods for parsing and calculating interestign properties of our time-series data."
   ]
  },
  {
   "cell_type": "code",
   "execution_count": 124,
   "metadata": {
    "collapsed": false
   },
   "outputs": [],
   "source": [
    "tr = traj.TimeSeries(top='data/alaTB.gro', traj=['data/protein_only.xtc'])"
   ]
  },
  {
   "cell_type": "code",
   "execution_count": 125,
   "metadata": {
    "collapsed": false
   },
   "outputs": [
    {
     "name": "stdout",
     "output_type": "stream",
     "text": [
      "<mdtraj.Trajectory with 10003 frames, 19 atoms, 3 residues, and unitcells>\n"
     ]
    }
   ],
   "source": [
    "print tr.mdt"
   ]
  },
  {
   "cell_type": "code",
   "execution_count": 126,
   "metadata": {
    "collapsed": false
   },
   "outputs": [],
   "source": [
    "phi = md.compute_phi(tr.mdt)\n",
    "psi = md.compute_psi(tr.mdt)\n",
    "res = [x for x in tr.mdt.topology.residues]"
   ]
  },
  {
   "cell_type": "code",
   "execution_count": 127,
   "metadata": {
    "collapsed": false
   },
   "outputs": [
    {
     "name": "stdout",
     "output_type": "stream",
     "text": [
      "(array([[ 4,  6,  8, 14]]), array([[-2.3704083 ],\n",
      "       [-2.31717944],\n",
      "       [-2.65259457],\n",
      "       ..., \n",
      "       [-1.00608552],\n",
      "       [-1.1628679 ],\n",
      "       [-1.34959686]], dtype=float32))\n",
      "(array([[ 6,  8, 14, 16]]), array([[ 2.02370429],\n",
      "       [ 2.4803381 ],\n",
      "       [ 3.07054257],\n",
      "       ..., \n",
      "       [-0.77070665],\n",
      "       [-0.55082983],\n",
      "       [-1.14936423]], dtype=float32))\n",
      "[ACE1, ALA2, NHE3]\n"
     ]
    }
   ],
   "source": [
    "print phi\n",
    "print psi\n",
    "print res"
   ]
  },
  {
   "cell_type": "code",
   "execution_count": 128,
   "metadata": {
    "collapsed": false
   },
   "outputs": [
    {
     "name": "stdout",
     "output_type": "stream",
     "text": [
      "(array([[ 4,  6,  8, 14]]), array([[-2.3704083 ],\n",
      "       [-2.31717944],\n",
      "       [-2.65259457],\n",
      "       ..., \n",
      "       [-1.00608552],\n",
      "       [-1.1628679 ],\n",
      "       [-1.34959686]], dtype=float32)) (array([[ 6,  8, 14, 16]]), array([[ 2.02370429],\n",
      "       [ 2.4803381 ],\n",
      "       [ 3.07054257],\n",
      "       ..., \n",
      "       [-0.77070665],\n",
      "       [-0.55082983],\n",
      "       [-1.14936423]], dtype=float32))\n"
     ]
    }
   ],
   "source": [
    "tr.discretize()"
   ]
  },
  {
   "cell_type": "code",
   "execution_count": 141,
   "metadata": {
    "collapsed": false
   },
   "outputs": [],
   "source": [
    "y = [0 if x == 'A' else 1 for x in tr.distrajs]\n"
   ]
  },
  {
   "cell_type": "code",
   "execution_count": 142,
   "metadata": {
    "collapsed": false
   },
   "outputs": [
    {
     "data": {
      "text/plain": [
       "(-0.2, 1.2)"
      ]
     },
     "execution_count": 142,
     "metadata": {},
     "output_type": "execute_result"
    },
    {
     "data": {
      "image/png": "[encoded data removed]",
      "text/plain": [
       "<matplotlib.figure.Figure at 0x109a7f690>"
      ]
     },
     "metadata": {},
     "output_type": "display_data"
    }
   ],
   "source": [
    "fig, (ax1, ax2) = plt.subplots(2,1)\n",
    "ax1.plot(psi[1]*180/math.pi,'o')\n",
    "ax2.plot(y)\n",
    "ax1.set_xlim(1000,2000)\n",
    "ax1.set_ylim(-180,180)\n",
    "ax2.set_xlim(1000,2000)\n",
    "ax2.set_ylim(-0.2,1.2)\n"
   ]
  },
  {
   "cell_type": "code",
   "execution_count": null,
   "metadata": {
    "collapsed": true
   },
   "outputs": [],
   "source": []
  },
  {
   "cell_type": "code",
   "execution_count": null,
   "metadata": {
    "collapsed": true
   },
   "outputs": [],
   "source": []
  }
 ],
 "metadata": {
  "kernelspec": {
   "display_name": "Python 2",
   "language": "python",
   "name": "python2"
  },
  "language_info": {
   "codemirror_mode": {
    "name": "ipython",
    "version": 2
   },
   "file_extension": ".py",
   "mimetype": "text/x-python",
   "name": "python",
   "nbconvert_exporter": "python",
   "pygments_lexer": "ipython2",
   "version": "2.7.10"
  }
 },
 "nbformat": 4,
 "nbformat_minor": 0
}
