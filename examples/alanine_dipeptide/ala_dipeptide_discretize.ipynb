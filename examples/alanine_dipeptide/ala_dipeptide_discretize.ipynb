{
 "cells": [
  {
   "cell_type": "markdown",
   "metadata": {},
   "source": [
    "# Discretizations\n",
    "Here we show how different discretizations work within MasterMSM. An important note is that not all discretizations will be sensible for all systems, but as usual the alanine dipeptide is a good testbed.\n",
    "\n",
    "We start downloading the data from the following [link](https://osf.io/a2vc7) and importing a number of libraries for plotting and analysis that will be useful for our work."
   ]
  },
  {
   "cell_type": "code",
   "execution_count": null,
   "metadata": {},
   "outputs": [],
   "source": [
    "%load_ext autoreload\n",
    "%matplotlib inline\n",
    "import math\n",
    "import numpy as np\n",
    "import matplotlib.pyplot as plt\n",
    "import seaborn as sns\n",
    "sns.set(style=\"ticks\", color_codes=True, font_scale=1.5)\n",
    "sns.set_style({\"xtick.direction\": \"in\", \"ytick.direction\": \"in\"})"
   ]
  },
  {
   "cell_type": "markdown",
   "metadata": {},
   "source": [
    "Next we import the ```traj``` module and read the molecular simulation trajectory in the ```xtc``` compressed format from Gromacs."
   ]
  },
  {
   "cell_type": "code",
   "execution_count": null,
   "metadata": {},
   "outputs": [],
   "source": [
    "from mastermsm.trajectory import traj\n",
    "tr = traj.TimeSeries(top='data/alaTB.gro', traj=['data/alatb_n1_ppn24.xtc'])\n",
    "print (tr.mdt)"
   ]
  },
  {
   "cell_type": "markdown",
   "metadata": {},
   "source": [
    "### Core Ramachandran angle regions\n",
    "Following previous work we can use core regions in the Ramachandran map to define our states. We use utilities from the [MDtraj](http://mdtraj.org) package to compute the Phi and Psi dihedrals."
   ]
  },
  {
   "cell_type": "code",
   "execution_count": null,
   "metadata": {},
   "outputs": [],
   "source": [
    "import mdtraj as md\n",
    "phi = md.compute_phi(tr.mdt)\n",
    "psi = md.compute_psi(tr.mdt)\n",
    "res = [x for x in tr.mdt.topology.residues]"
   ]
  },
  {
   "cell_type": "markdown",
   "metadata": {},
   "source": [
    "Then we run the actual discretization, using only two states for the alpha and extended conformations."
   ]
  },
  {
   "cell_type": "code",
   "execution_count": null,
   "metadata": {},
   "outputs": [],
   "source": [
    "tr.discretize(states=['A', 'E', 'L'])\n",
    "tr.find_keys()"
   ]
  },
  {
   "cell_type": "code",
   "execution_count": null,
   "metadata": {},
   "outputs": [],
   "source": [
    "fig, ax = plt.subplots(figsize=(10,3))\n",
    "ax.plot(tr.mdt.time, [tr.keys.index(x) if (x in tr.keys) else 0 for x in tr.distraj ], lw=1)\n",
    "ax.set_xlim(0, 1.5e5)\n",
    "ax.set_ylim(-0.5, 2.5)\n",
    "ax.set_yticks(range(3))\n",
    "ax.set_yticklabels(['A', 'E', 'L'])\n",
    "ax.set_xlabel('Time (ps)', fontsize=20)\n",
    "ax.set_ylabel('state', fontsize=20)"
   ]
  },
  {
   "cell_type": "markdown",
   "metadata": {},
   "source": [
    "Finally we derive the MSM using the tools from the ```msm``` module. In particular, we use the ```SuperMSM``` class that will help build MSMs at various lag times."
   ]
  },
  {
   "cell_type": "code",
   "execution_count": null,
   "metadata": {},
   "outputs": [],
   "source": [
    "from mastermsm.msm import msm\n",
    "msm_alaTB = msm.SuperMSM([tr])\n",
    "for i in [1, 2, 5, 10, 20, 50, 100]:\n",
    "    msm_alaTB.do_msm(i)\n",
    "    msm_alaTB.msms[i].do_trans()\n",
    "    msm_alaTB.msms[i].boots()"
   ]
  },
  {
   "cell_type": "markdown",
   "metadata": {},
   "source": [
    "Next we gather results from all these MSMs and plot the relaxation time corresponding to the two slow transitions."
   ]
  },
  {
   "cell_type": "code",
   "execution_count": null,
   "metadata": {},
   "outputs": [],
   "source": [
    "fig, ax = plt.subplots()\n",
    "tau_vs_lagt = np.array([[x,msm_alaTB.msms[x].tauT[0],msm_alaTB.msms[x].tau_std[0]] \\\n",
    "               for x in sorted(msm_alaTB.msms.keys())])\n",
    "ax.errorbar(tau_vs_lagt[:,0],tau_vs_lagt[:,1],fmt='o-', yerr=tau_vs_lagt[:,2], markersize=10)\n",
    "tau_vs_lagt = np.array([[x,msm_alaTB.msms[x].tauT[1],msm_alaTB.msms[x].tau_std[1]] \\\n",
    "               for x in sorted(msm_alaTB.msms.keys())])\n",
    "ax.errorbar(tau_vs_lagt[:,0],tau_vs_lagt[:,1],fmt='o-', yerr=tau_vs_lagt[:,2], markersize=10)\n",
    "ax.fill_between(10**np.arange(-0.2,3,0.2), 1e-1, 10**np.arange(-0.2,3,0.2), facecolor='lightgray')\n",
    "ax.set_xlabel(r'$\\Delta$t [ps]', fontsize=16)\n",
    "ax.set_ylabel(r'$\\tau$ [ps]', fontsize=16)\n",
    "ax.set_xlim(0.8,150)\n",
    "ax.set_ylim(10,3000)\n",
    "ax.set_yscale('log')\n",
    "_ = ax.set_xscale('log')"
   ]
  },
  {
   "cell_type": "markdown",
   "metadata": {},
   "source": [
    "### Fine grid on the Ramachandran map\n",
    "Alternatively we can make a grid on the Ramachandran map with many more states."
   ]
  },
  {
   "cell_type": "code",
   "execution_count": null,
   "metadata": {},
   "outputs": [],
   "source": [
    "tr.discretize(method=\"ramagrid\", nbins=30)\n",
    "tr.find_keys()"
   ]
  },
  {
   "cell_type": "code",
   "execution_count": null,
   "metadata": {},
   "outputs": [],
   "source": [
    "fig, ax = plt.subplots(figsize=(10,3))\n",
    "ax.plot(tr.mdt.time, [x for x in tr.distraj], '.', ms=1)\n",
    "ax.set_xlim(0, 1.5e5)\n",
    "ax.set_ylim(-1, 900)\n",
    "ax.set_xlabel('Time (ps)', fontsize=20)\n",
    "ax.set_ylabel('state', fontsize=20)"
   ]
  },
  {
   "cell_type": "markdown",
   "metadata": {},
   "source": [
    "Then we repeat the same steps as before, but with this fine grained MSM."
   ]
  },
  {
   "cell_type": "code",
   "execution_count": null,
   "metadata": {
    "scrolled": false
   },
   "outputs": [],
   "source": [
    "from mastermsm.msm import msm\n",
    "msm_alaTB_grid = msm.SuperMSM([tr])\n",
    "for i in [1, 2, 5, 10, 20, 50, 100]:\n",
    "    msm_alaTB_grid.do_msm(i)\n",
    "    msm_alaTB_grid.msms[i].do_trans()\n",
    "    msm_alaTB_grid.msms[i].boots()"
   ]
  },
  {
   "cell_type": "markdown",
   "metadata": {},
   "source": [
    "First we take a look at the dependence of the slowest relaxation time with the lag time, $\\Delta t$ for the construction of the Markov model as a minimal quality control."
   ]
  },
  {
   "cell_type": "code",
   "execution_count": null,
   "metadata": {},
   "outputs": [],
   "source": [
    "tau1_vs_lagt = np.array([[x, msm_alaTB_grid.msms[x].tauT[0], \\\n",
    "                    msm_alaTB_grid.msms[x].tau_std[0]] \\\n",
    "                   for x in sorted(msm_alaTB_grid.msms.keys())])\n",
    "tau2_vs_lagt = np.array([[x, msm_alaTB_grid.msms[x].tauT[1], \\\n",
    "                    msm_alaTB_grid.msms[x].tau_std[1]] \\\n",
    "                   for x in sorted(msm_alaTB_grid.msms.keys())])\n",
    "tau3_vs_lagt = np.array([[x,msm_alaTB_grid.msms[x].tauT[2], \\\n",
    "                    msm_alaTB_grid.msms[x].tau_std[2]] \\\n",
    "                   for x in sorted(msm_alaTB_grid.msms.keys())])\n",
    "tau4_vs_lagt = np.array([[x,msm_alaTB_grid.msms[x].tauT[3], \\\n",
    "                    msm_alaTB_grid.msms[x].tau_std[3]] \\\n",
    "                   for x in sorted(msm_alaTB_grid.msms.keys())])\n",
    "\n",
    "fig, ax = plt.subplots()\n",
    "ax.errorbar(tau1_vs_lagt[:,0],tau1_vs_lagt[:,1], tau1_vs_lagt[:,2], fmt='o-', markersize=10)\n",
    "ax.errorbar(tau2_vs_lagt[:,0],tau2_vs_lagt[:,1], tau2_vs_lagt[:,2], fmt='o-', markersize=10)\n",
    "ax.errorbar(tau3_vs_lagt[:,0],tau3_vs_lagt[:,1], tau3_vs_lagt[:,2], fmt='o-', markersize=10)\n",
    "ax.errorbar(tau4_vs_lagt[:,0],tau4_vs_lagt[:,1], tau4_vs_lagt[:,2], fmt='o-', markersize=10)\n",
    "ax.fill_between(10**np.arange(-0.2,3,0.2), 1e-1, 10**np.arange(-0.2,3,0.2), facecolor='lightgray', alpha=0.5)\n",
    "ax.set_xlabel(r'$\\Delta$t [ps]', fontsize=16)\n",
    "ax.set_ylabel(r'$\\tau_i$ [ps]', fontsize=16)\n",
    "ax.set_xlim(0.8,200)\n",
    "ax.set_ylim(1,3000)\n",
    "_ = ax.set_xscale('log')\n",
    "_ = ax.set_yscale('log')\n",
    "plt.tight_layout()"
   ]
  },
  {
   "cell_type": "markdown",
   "metadata": {},
   "source": [
    "The slowest relaxation times from the fine-grained MSM agree with those of the core regions, although in this case there is an additional slow mode."
   ]
  },
  {
   "cell_type": "code",
   "execution_count": null,
   "metadata": {},
   "outputs": [],
   "source": [
    "fig, ax = plt.subplots()\n",
    "ax.errorbar(range(1,16),msm_alaTB_grid.msms[10].tauT[0:15], fmt='o-', \\\n",
    "            yerr= msm_alaTB_grid.msms[10].tau_std[0:15], ms=10)\n",
    "ax.set_xlabel('Eigenvalue index')\n",
    "ax.set_ylabel(r'$\\tau_i$ (ns)')\n",
    "ax.set_yscale('log')\n",
    "plt.tight_layout()"
   ]
  },
  {
   "cell_type": "markdown",
   "metadata": {},
   "source": [
    "We can understand which dynamical processes the eigenvectors are associated to by looking at the corresponding eigenvectors. For this we recalculate the transition matrix but now recovering the eigenvectors. "
   ]
  },
  {
   "cell_type": "code",
   "execution_count": null,
   "metadata": {},
   "outputs": [],
   "source": [
    "msm_alaTB_grid.msms[10].do_trans(evecs=True)"
   ]
  },
  {
   "cell_type": "code",
   "execution_count": null,
   "metadata": {},
   "outputs": [],
   "source": [
    "fig, ax = plt.subplots(1,4, figsize=(12,3), sharex=True, sharey=True)\n",
    "mat = np.zeros((30,30), float)\n",
    "for i in [x for x in zip(msm_alaTB_grid.msms[10].keep_keys, \\\n",
    "                         msm_alaTB_grid.msms[10].rvecsT[:,0])]:\n",
    "    #print i, i[0]%20, int(i[0]/20), -i[1]\n",
    "\n",
    "    mat[i[0]%30, int(i[0]/30)] = i[1]\n",
    "ax[0].imshow(mat.transpose(), interpolation=\"none\", origin='lower', \\\n",
    "             cmap='Blues')\n",
    "ax[0].set_title(r\"$\\psi_1$\")\n",
    "\n",
    "mat = np.zeros((30,30), float)\n",
    "for i in [x for x in zip(msm_alaTB_grid.msms[10].keep_keys, \\\n",
    "                         msm_alaTB_grid.msms[10].rvecsT[:,1])]:\n",
    "    #print i, i[0]%20, int(i[0]/20), -i[1]\n",
    "    mat[i[0]%30, int(i[0]/30)] = -i[1]\n",
    "ax[1].imshow(mat.transpose(), interpolation=\"none\", origin='lower', \\\n",
    "             cmap='RdBu')\n",
    "ax[1].set_title(r\"$\\psi_2$\")\n",
    "\n",
    "mat = np.zeros((30,30), float)\n",
    "for i in [x for x in zip(msm_alaTB_grid.msms[10].keep_keys, \\\n",
    "                         msm_alaTB_grid.msms[10].rvecsT[:,2])]:\n",
    "    #print i, i[0]%20, int(i[0]/20), -i[1]\n",
    "    mat[i[0]%30, int(i[0]/30)] = -i[1]\n",
    "ax[2].imshow(mat.transpose(), interpolation=\"none\", origin='lower', \\\n",
    "                 cmap='RdBu')\n",
    "ax[2].set_title(r\"$\\psi_3$\")\n",
    "\n",
    "mat = np.zeros((30,30), float)\n",
    "for i in [x for x in zip(msm_alaTB_grid.msms[10].keep_keys, \\\n",
    "                         msm_alaTB_grid.msms[10].rvecsT[:,3])]:\n",
    "    #print i, i[0]%20, int(i[0]/20), -i[1]\n",
    "    mat[i[0]%30, int(i[0]/30)] = -i[1]\n",
    "ax[3].imshow(mat.transpose(), interpolation=\"none\", origin='lower', \\\n",
    "                 cmap='RdBu')\n",
    "ax[3].set_title(r\"$\\psi_4$\")"
   ]
  },
  {
   "cell_type": "markdown",
   "metadata": {},
   "source": [
    "Here we are plotting the values of the eigenvectors so that the state indexes match the positions in the Ramachandran map. On the left, we show the stationary eigenvector, $\\psi_1$, which is proportional to the equilibrium population. The other three plots correspond to the slowest dynamical modes. From $\\psi_2$, we find that the slowest transition is the interconversion between the $\\alpha_L$ and the $\\alpha_R/\\beta$ states. These, equilibrate more rapidly, as indicated by $\\psi_3$. Finally, on the right, we find the additional mode that corresponds to a yet faster transition between the $\\alpha_L$ basin and a fourth Ramachandran region."
   ]
  },
  {
   "cell_type": "markdown",
   "metadata": {},
   "source": [
    "### Clustering\n",
    "So it seems three states only may not be a very good clustering for this particular system. Maybe we need one more. In order to do the clustering systematically we use the ```fewsm``` module from ```MasterMSM```. From the eigenvectors we are immediately able to produce a sensible, albeit still imperfect, partitioning in four states."
   ]
  },
  {
   "cell_type": "code",
   "execution_count": null,
   "metadata": {},
   "outputs": [],
   "source": [
    "from mastermsm.fewsm import fewsm"
   ]
  },
  {
   "cell_type": "code",
   "execution_count": null,
   "metadata": {},
   "outputs": [],
   "source": [
    "fewsm4 = fewsm.FEWSM(msm_alaTB_grid.msms[2], N=4)"
   ]
  },
  {
   "cell_type": "code",
   "execution_count": null,
   "metadata": {},
   "outputs": [],
   "source": [
    "import matplotlib.cm as cm\n",
    "fig, ax = plt.subplots(figsize=(5,5))\n",
    "mat = np.zeros((30,30), float)\n",
    "for i in msm_alaTB_grid.msms[2].keep_keys:\n",
    "    j = msm_alaTB_grid.msms[2].keep_keys.index(i)\n",
    "    if j in fewsm4.macros[0]:\n",
    "        mat[i%30, int(i/30)] = 1\n",
    "    elif j in fewsm4.macros[1]:\n",
    "        mat[i%30, int(i/30)] = 2\n",
    "    elif j in fewsm4.macros[2]:\n",
    "        mat[i%30, int(i/30)] = 3\n",
    "    else:\n",
    "        mat[i%30, int(i/30)] = 4\n",
    "    #print i, i[0]%20, int(i[0]/20), -i[1]\n",
    "my_cmap = cm.get_cmap('viridis')\n",
    "my_cmap.set_under('w')\n",
    "ax.imshow(mat.transpose(), interpolation=\"none\", origin='lower', \\\n",
    "             cmap=my_cmap, vmin = 0.5)"
   ]
  },
  {
   "cell_type": "markdown",
   "metadata": {},
   "source": [
    "Note how the partitioning based on eigenvectors captures the three important regions in the Ramachandran map."
   ]
  }
 ],
 "metadata": {
  "kernelspec": {
   "display_name": "Python 3",
   "language": "python",
   "name": "python3"
  },
  "language_info": {
   "codemirror_mode": {
    "name": "ipython",
    "version": 3
   },
   "file_extension": ".py",
   "mimetype": "text/x-python",
   "name": "python",
   "nbconvert_exporter": "python",
   "pygments_lexer": "ipython3",
   "version": "3.8.8"
  }
 },
 "nbformat": 4,
 "nbformat_minor": 1
}
